{
 "cells": [
  {
   "cell_type": "markdown",
   "metadata": {},
   "source": [
    "## Descriptive statistics of combining"
   ]
  },
  {
   "cell_type": "code",
   "execution_count": 4,
   "metadata": {},
   "outputs": [
    {
     "name": "stdout",
     "output_type": "stream",
     "text": [
      "The autoreload extension is already loaded. To reload it, use:\n",
      "  %reload_ext autoreload\n"
     ]
    }
   ],
   "source": [
    "import pickle\n",
    "import descriptive_stats\n",
    "from IPython.display import clear_output\n",
    "%load_ext autoreload\n",
    "%autoreload 2"
   ]
  },
  {
   "cell_type": "code",
   "execution_count": 5,
   "metadata": {},
   "outputs": [],
   "source": [
    "input_path = 'output/combined.p'\n",
    "with open(input_path, 'rb') as infile:\n",
    "    frame_label2frame_obj = pickle.load(infile)"
   ]
  },
  {
   "cell_type": "code",
   "execution_count": 6,
   "metadata": {},
   "outputs": [],
   "source": [
    "df = descriptive_stats.load_combined_resources_as_df(frame_label2frame_obj)"
   ]
  },
  {
   "cell_type": "code",
   "execution_count": 7,
   "metadata": {},
   "outputs": [
    {
     "name": "stdout",
     "output_type": "stream",
     "text": [
      "frames with lexemes 383\n",
      "frames with lemmas 1033\n"
     ]
    }
   ],
   "source": [
    "total = len(df)\n",
    "frames_without_lexemes = list(df['# of unique lexemes']).count(0)\n",
    "frames_without_lemmas = list(df['# of unique lemmas']).count(0)\n",
    "print('frames with lexemes', total-frames_without_lexemes)\n",
    "print('frames with lemmas', total-frames_without_lemmas)"
   ]
  },
  {
   "cell_type": "code",
   "execution_count": 8,
   "metadata": {},
   "outputs": [
    {
     "data": {
      "text/html": [
       "<div>\n",
       "<style scoped>\n",
       "    .dataframe tbody tr th:only-of-type {\n",
       "        vertical-align: middle;\n",
       "    }\n",
       "\n",
       "    .dataframe tbody tr th {\n",
       "        vertical-align: top;\n",
       "    }\n",
       "\n",
       "    .dataframe thead th {\n",
       "        text-align: right;\n",
       "    }\n",
       "</style>\n",
       "<table border=\"1\" class=\"dataframe\">\n",
       "  <thead>\n",
       "    <tr style=\"text-align: right;\">\n",
       "      <th></th>\n",
       "      <th># of unique lexemes</th>\n",
       "      <th># of unique lemmas</th>\n",
       "    </tr>\n",
       "  </thead>\n",
       "  <tbody>\n",
       "    <tr>\n",
       "      <th>count</th>\n",
       "      <td>1221.000000</td>\n",
       "      <td>1221.000000</td>\n",
       "    </tr>\n",
       "    <tr>\n",
       "      <th>mean</th>\n",
       "      <td>1.232596</td>\n",
       "      <td>15.604423</td>\n",
       "    </tr>\n",
       "    <tr>\n",
       "      <th>std</th>\n",
       "      <td>3.094408</td>\n",
       "      <td>22.279740</td>\n",
       "    </tr>\n",
       "    <tr>\n",
       "      <th>min</th>\n",
       "      <td>0.000000</td>\n",
       "      <td>0.000000</td>\n",
       "    </tr>\n",
       "    <tr>\n",
       "      <th>25%</th>\n",
       "      <td>0.000000</td>\n",
       "      <td>3.000000</td>\n",
       "    </tr>\n",
       "    <tr>\n",
       "      <th>50%</th>\n",
       "      <td>0.000000</td>\n",
       "      <td>9.000000</td>\n",
       "    </tr>\n",
       "    <tr>\n",
       "      <th>75%</th>\n",
       "      <td>1.000000</td>\n",
       "      <td>19.000000</td>\n",
       "    </tr>\n",
       "    <tr>\n",
       "      <th>max</th>\n",
       "      <td>49.000000</td>\n",
       "      <td>188.000000</td>\n",
       "    </tr>\n",
       "  </tbody>\n",
       "</table>\n",
       "</div>"
      ],
      "text/plain": [
       "       # of unique lexemes  # of unique lemmas\n",
       "count          1221.000000         1221.000000\n",
       "mean              1.232596           15.604423\n",
       "std               3.094408           22.279740\n",
       "min               0.000000            0.000000\n",
       "25%               0.000000            3.000000\n",
       "50%               0.000000            9.000000\n",
       "75%               1.000000           19.000000\n",
       "max              49.000000          188.000000"
      ]
     },
     "execution_count": 8,
     "metadata": {},
     "output_type": "execute_result"
    }
   ],
   "source": [
    "df.describe()"
   ]
  },
  {
   "cell_type": "markdown",
   "metadata": {},
   "source": [
    "## Inspect example"
   ]
  },
  {
   "cell_type": "code",
   "execution_count": 15,
   "metadata": {},
   "outputs": [],
   "source": [
    "frame_obj = frame_label2frame_obj['Abandonment']"
   ]
  },
  {
   "cell_type": "code",
   "execution_count": 17,
   "metadata": {},
   "outputs": [
    {
     "name": "stdout",
     "output_type": "stream",
     "text": [
      "Frame: Abandonment\n",
      "\n",
      "LEXEMES (provenance FrameNet annotations on SoNaR):\n",
      "achtergelaten,varen\n",
      "\n",
      "\n",
      "LEMMAS (provenance Wiktionary and FrameNet annotations on SoNaR):\n",
      "Counter({('achterlaten', 'V'): 3, ('verlaten', 'V'): 2, ('nalaten', 'V'): 2, ('varen', 'V'): 1, ('opgeven', 'V'): 1, ('begeven', 'V'): 1, ('terugnemen', 'V'): 1, ('verzaken', 'V'): 1, ('verwerpen', 'V'): 1, ('verbannen', 'V'): 1, ('prijsgeven', 'V'): 1, ('afwijzen', 'V'): 1, ('afzien', 'V'): 1, ('deponeren', 'V'): 1, ('overlaten', 'V'): 1, ('laten', 'V'): 1, ('beëindigen', 'V'): 1, ('overdragen', 'V'): 1, ('weggaan', 'V'): 1, ('vertrekken', 'V'): 1, ('overgave', 'N'): 1, ('uitbundigheid', 'N'): 1, ('opgave', 'N'): 1, ('verwaarlozing', 'N'): 1, ('veronachtzaming', 'N'): 1, ('achterlating', 'N'): 1, ('afstand', 'N'): 1, ('verlaten', 'A'): 1, ('schaamteloos', 'A'): 1, ('ongeremd', 'A'): 1, ('verdorven', 'A'): 1, ('liederlijk', 'A'): 1, ('vergeten', 'V'): 1})\n",
      "\n",
      "\n",
      "LEMMAS (provenance Wiktionary):\n",
      "LU-14839 (abandon): Counter({'opgeven': 1, 'begeven': 1, 'verlaten': 1, 'terugnemen': 1, 'verzaken': 1, 'verwerpen': 1, 'verbannen': 1, 'prijsgeven': 1, 'achterlaten': 1, 'afwijzen': 1, 'afzien': 1})\n",
      "LU-14841 (leave): Counter({'nalaten': 1, 'deponeren': 1, 'overlaten': 1, 'laten': 1, 'verlaten': 1, 'achterlaten': 1, 'beëindigen': 1, 'overdragen': 1, 'weggaan': 1, 'vertrekken': 1})\n",
      "LU-14842 (abandonment): Counter({'overgave': 1, 'uitbundigheid': 1, 'opgave': 1, 'verwaarlozing': 1, 'veronachtzaming': 1, 'achterlating': 1, 'afstand': 1})\n",
      "LU-14843 (abandoned): Counter({'verlaten': 1, 'schaamteloos': 1, 'ongeremd': 1, 'verdorven': 1, 'liederlijk': 1})\n",
      "LU-15317 (forget): Counter({'vergeten': 1, 'nalaten': 1})\n"
     ]
    }
   ],
   "source": [
    "print(frame_obj)"
   ]
  },
  {
   "cell_type": "code",
   "execution_count": null,
   "metadata": {},
   "outputs": [],
   "source": []
  }
 ],
 "metadata": {
  "kernelspec": {
   "display_name": "Python 3",
   "language": "python",
   "name": "python3"
  },
  "language_info": {
   "codemirror_mode": {
    "name": "ipython",
    "version": 3
   },
   "file_extension": ".py",
   "mimetype": "text/x-python",
   "name": "python",
   "nbconvert_exporter": "python",
   "pygments_lexer": "ipython3",
   "version": "3.7.2"
  }
 },
 "nbformat": 4,
 "nbformat_minor": 2
}
